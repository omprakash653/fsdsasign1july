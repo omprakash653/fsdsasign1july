{
 "cells": [
  {
   "cell_type": "markdown",
   "id": "f8b8d4a6",
   "metadata": {},
   "source": [
    "# Ans1"
   ]
  },
  {
   "cell_type": "code",
   "execution_count": 1,
   "id": "9d997817",
   "metadata": {},
   "outputs": [],
   "source": [
    "# The primary goal of Object-Oriented Programming is to\n",
    "# organize and structure code. that helps to reusability,\n",
    "# modularity, and maintainability of the code."
   ]
  },
  {
   "cell_type": "markdown",
   "id": "12941b71",
   "metadata": {},
   "source": [
    "# Ans2"
   ]
  },
  {
   "cell_type": "code",
   "execution_count": 2,
   "id": "9604a645",
   "metadata": {},
   "outputs": [],
   "source": [
    "# In Python an object is a fundamental concept in Object-Oriented \n",
    "# Programming , we create instance of the class that is called object.\n",
    "# in a class we can create multiple object of a class .\n"
   ]
  },
  {
   "cell_type": "markdown",
   "id": "6e96b9e5",
   "metadata": {},
   "source": [
    "# Ans3"
   ]
  },
  {
   "cell_type": "code",
   "execution_count": 3,
   "id": "382e9ab2",
   "metadata": {},
   "outputs": [],
   "source": [
    "# class is a blueprint of object,data in a class is represented by attributes,\n",
    "# which are variables specific to the class, By creating a class, we can create \n",
    "# multiple objects that share the same behavior defined by the class."
   ]
  },
  {
   "cell_type": "markdown",
   "id": "ecace62c",
   "metadata": {},
   "source": [
    "# Ans4"
   ]
  },
  {
   "cell_type": "code",
   "execution_count": 4,
   "id": "0b8b61c5",
   "metadata": {},
   "outputs": [],
   "source": [
    "# In a class,with the help of attributes and methods we define the behavior and \n",
    "# characteristics of objects created from that class.Attribute contribute to the overall \n",
    "# structure and behavior of the objects,that allow for code reusability\n",
    "# and efficient organization of data ."
   ]
  },
  {
   "cell_type": "markdown",
   "id": "05169a01",
   "metadata": {},
   "source": [
    "# Ans5"
   ]
  },
  {
   "cell_type": "code",
   "execution_count": 5,
   "id": "13a2b644",
   "metadata": {},
   "outputs": [],
   "source": [
    "# Class variable-:\n",
    "#     Class variables shared among all instances of a class\n",
    "#     if we will make changse in class it will affects all instances of the class.\n",
    "# Instance variables:\n",
    "#     Instance variables are unique for each instance of a class.\n",
    "#     if we will make changes in instance it will affec the specific instance they belong to."
   ]
  },
  {
   "cell_type": "markdown",
   "id": "613bd1bf",
   "metadata": {},
   "source": [
    "# Ans6"
   ]
  },
  {
   "cell_type": "code",
   "execution_count": 1,
   "id": "4a23e9e6",
   "metadata": {},
   "outputs": [],
   "source": [
    "# self parameter is to allow the instance of the class to refer to its own attributes and methods\n",
    "# When a method is called on an object, the object itself is automatically passed as the first \n",
    "# argument to the method, represented by the self parameter."
   ]
  },
  {
   "cell_type": "markdown",
   "id": "7c8f6796",
   "metadata": {},
   "source": [
    "# Ans7"
   ]
  },
  {
   "cell_type": "code",
   "execution_count": 5,
   "id": "57f03411",
   "metadata": {},
   "outputs": [
    {
     "name": "stdout",
     "output_type": "stream",
     "text": [
      "successfully checked out!\n",
      "Book returned successfully.\n",
      "Book Title: think and grow rich\n",
      "Author Name: Robert hook\n",
      "ISBN: 9788464738\n",
      "Publication Year: 2022\n",
      "Available Copies: 14\n"
     ]
    }
   ],
   "source": [
    "class Book:\n",
    "    def __init__(self, title, author, isbn, publication_year, available_copies):\n",
    "        self.title = title\n",
    "        self.author = author\n",
    "        self.isbn = isbn\n",
    "        self.publication_year = publication_year\n",
    "        self.available_copies = available_copies\n",
    "\n",
    "    def check_out(self):\n",
    "        if self.available_copies > 0:\n",
    "            self.available_copies -= 1\n",
    "            print(\"successfully checked out!\")\n",
    "        else:\n",
    "            print(\"Not available for checkout...\")\n",
    "\n",
    "    def return_book(self):\n",
    "        self.available_copies += 1\n",
    "        print(\"Book returned successfully.\")\n",
    "\n",
    "    def display_book_info(self):\n",
    "        print(\"Book Title:\", self.title)\n",
    "        print(\"Author Name:\", self.author)\n",
    "        print(\"ISBN:\", self.isbn)\n",
    "        print(\"Publication Year:\", self.publication_year)\n",
    "        print(\"Available Copies:\", self.available_copies)\n",
    "\n",
    "\n",
    "book1 = Book(\"think and grow rich\", \"Robert hook\", \"9788464738\", 2022, 14)\n",
    "\n",
    "book1.check_out()\n",
    "\n",
    "book1.return_book()\n",
    "\n",
    "book1.display_book_info()\n"
   ]
  },
  {
   "cell_type": "markdown",
   "id": "35cdd1ca",
   "metadata": {},
   "source": [
    "# Ans8"
   ]
  },
  {
   "cell_type": "code",
   "execution_count": 7,
   "id": "1c31d0b3",
   "metadata": {},
   "outputs": [],
   "source": [
    "class Ticket:\n",
    "    def __init__(self, ticket_id, event_name, event_date, venue, seat_number, price):\n",
    "        self.ticket_id = ticket_id\n",
    "        self.event_name = event_name\n",
    "        self.event_date = event_date\n",
    "        self.venue = venue\n",
    "        self.seat_number = seat_number\n",
    "        self.price = price\n",
    "        self.is_reserved = False\n",
    "\n",
    "    def reserve_ticket(self):\n",
    "        if not self.is_reserved:\n",
    "            self.is_reserved = True\n",
    "            print(\"Successfully Reserved!\")\n",
    "        else:\n",
    "            print(\"Reserved already!\")\n",
    "\n",
    "    def cancel_reservation(self):\n",
    "        if self.is_reserved:\n",
    "            self.is_reserved = False\n",
    "            print(\"Canceled successfully.\")\n",
    "        else:\n",
    "            print(\"Not reserved.\")\n",
    "\n",
    "    def display_ticket_info(self):\n",
    "        print(\"Ticket ID:\", self.ticket_id)\n",
    "        print(\"Event Name:\", self.event_name)\n",
    "        print(\"Event Date:\", self.event_date)\n",
    "        print(\"Venue:\", self.venue)\n",
    "        print(\"Seat Number:\", self.seat_number)\n",
    "        print(\"Price:\", self.price)\n",
    "#         print(\"Reservation Status:\", \"Reserved\" if self.is_reserved else \"Not Reserved\")\n",
    "\n",
    "ticket1=Ticket(12,'utsav','12/6/2023','Pune',45,1500)"
   ]
  },
  {
   "cell_type": "code",
   "execution_count": 8,
   "id": "542c4cd8",
   "metadata": {},
   "outputs": [
    {
     "name": "stdout",
     "output_type": "stream",
     "text": [
      "Successfully Reserved!\n"
     ]
    }
   ],
   "source": [
    "ticket1.reserve_ticket()"
   ]
  },
  {
   "cell_type": "code",
   "execution_count": 9,
   "id": "d0875639",
   "metadata": {},
   "outputs": [
    {
     "name": "stdout",
     "output_type": "stream",
     "text": [
      "Canceled successfully.\n"
     ]
    }
   ],
   "source": [
    "ticket1.cancel_reservation()"
   ]
  },
  {
   "cell_type": "code",
   "execution_count": 10,
   "id": "56188a59",
   "metadata": {},
   "outputs": [
    {
     "name": "stdout",
     "output_type": "stream",
     "text": [
      "Ticket ID: 12\n",
      "Event Name: utsav\n",
      "Event Date: 12/6/2023\n",
      "Venue: Pune\n",
      "Seat Number: 45\n",
      "Price: 1500\n"
     ]
    }
   ],
   "source": [
    "ticket1.display_ticket_info()"
   ]
  },
  {
   "cell_type": "markdown",
   "id": "4de6b603",
   "metadata": {},
   "source": [
    "# Ans9"
   ]
  },
  {
   "cell_type": "code",
   "execution_count": 12,
   "id": "8f67acf2",
   "metadata": {},
   "outputs": [
    {
     "name": "stdout",
     "output_type": "stream",
     "text": [
      "Apple\n",
      "Mango\n",
      "Mango\n"
     ]
    }
   ],
   "source": [
    "class ShoppingCart:\n",
    "    def __init__(self):\n",
    "        self.items = []\n",
    "\n",
    "    def add_item(self, item):\n",
    "        self.items.append(item)\n",
    "\n",
    "    def remove_item(self, item):\n",
    "        if item in self.items:\n",
    "            self.items.remove(item)\n",
    "\n",
    "    def view_cart(self):\n",
    "        for item in self.items:\n",
    "            print(item)\n",
    "\n",
    "    def clear_cart(self):\n",
    "        self.items = []\n",
    "\n",
    "\n",
    "cart = ShoppingCart()\n",
    "cart.add_item(\"Apple\")\n",
    "cart.add_item(\"Mango\")\n",
    "cart.view_cart()  \n",
    "cart.remove_item(\"Apple\")\n",
    "cart.view_cart()  \n",
    "cart.clear_cart()\n",
    "cart.view_cart()  "
   ]
  },
  {
   "cell_type": "markdown",
   "id": "b77c3d2b",
   "metadata": {},
   "source": [
    "# Ans10"
   ]
  },
  {
   "cell_type": "code",
   "execution_count": 44,
   "id": "6f686ba5",
   "metadata": {},
   "outputs": [],
   "source": [
    "class Student:\n",
    "    def __init__(self, name, age, grade, studentid):\n",
    "        self.name = name\n",
    "        self.age = age\n",
    "        self.grade = grade\n",
    "        self.student_id = studentid\n",
    "        self.attendance = {}\n",
    "\n",
    "    def update_attendance(self, date, status):\n",
    "        self.attendance[date] = status\n",
    "\n",
    "    def get_attendance(self):\n",
    "        return self.attendance\n",
    "\n",
    "    def get_average_attendance(self):\n",
    "        total_days = len(self.attendance)\n",
    "        present_days = sum(status == 'present' for status in self.attendance.values())\n",
    "        if total_days > 0:\n",
    "            average_attendance = (present_days / total_days) * 100 \n",
    "            print(average_attendance)\n",
    "        else:\n",
    "            print(0)"
   ]
  },
  {
   "cell_type": "code",
   "execution_count": 45,
   "id": "61f9e8c9",
   "metadata": {},
   "outputs": [],
   "source": [
    "student1=Student(\"rohit\",22,\"A\",1234)"
   ]
  },
  {
   "cell_type": "code",
   "execution_count": 46,
   "id": "a0eeaa2c",
   "metadata": {},
   "outputs": [],
   "source": [
    "student1.update_attendance(\"20/10/2022\",\"present\")"
   ]
  },
  {
   "cell_type": "code",
   "execution_count": 47,
   "id": "a9077ea1",
   "metadata": {},
   "outputs": [
    {
     "data": {
      "text/plain": [
       "{'20/10/2022': 'present'}"
      ]
     },
     "execution_count": 47,
     "metadata": {},
     "output_type": "execute_result"
    }
   ],
   "source": [
    "student1.get_attendance()"
   ]
  },
  {
   "cell_type": "code",
   "execution_count": 48,
   "id": "61d4b0f5",
   "metadata": {},
   "outputs": [
    {
     "name": "stdout",
     "output_type": "stream",
     "text": [
      "100.0\n"
     ]
    }
   ],
   "source": [
    "student1.get_average_attendance()"
   ]
  },
  {
   "cell_type": "code",
   "execution_count": null,
   "id": "a61ee0cc",
   "metadata": {},
   "outputs": [],
   "source": []
  }
 ],
 "metadata": {
  "kernelspec": {
   "display_name": "Python 3 (ipykernel)",
   "language": "python",
   "name": "python3"
  },
  "language_info": {
   "codemirror_mode": {
    "name": "ipython",
    "version": 3
   },
   "file_extension": ".py",
   "mimetype": "text/x-python",
   "name": "python",
   "nbconvert_exporter": "python",
   "pygments_lexer": "ipython3",
   "version": "3.11.1"
  }
 },
 "nbformat": 4,
 "nbformat_minor": 5
}
