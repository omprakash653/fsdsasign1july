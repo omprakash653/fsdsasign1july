{
 "cells": [
  {
   "cell_type": "markdown",
   "id": "661b2c83",
   "metadata": {},
   "source": [
    "# Ans1"
   ]
  },
  {
   "cell_type": "code",
   "execution_count": 1,
   "id": "f2087cff",
   "metadata": {},
   "outputs": [],
   "source": [
    "# The primary goal of Object-Oriented Programming is to\n",
    "# organize and structure code. that helps to reusability,\n",
    "# modularity, and maintainability of the code."
   ]
  },
  {
   "cell_type": "code",
   "execution_count": null,
   "id": "cd6b0fd2",
   "metadata": {},
   "outputs": [],
   "source": []
  }
 ],
 "metadata": {
  "kernelspec": {
   "display_name": "Python 3 (ipykernel)",
   "language": "python",
   "name": "python3"
  },
  "language_info": {
   "codemirror_mode": {
    "name": "ipython",
    "version": 3
   },
   "file_extension": ".py",
   "mimetype": "text/x-python",
   "name": "python",
   "nbconvert_exporter": "python",
   "pygments_lexer": "ipython3",
   "version": "3.11.1"
  }
 },
 "nbformat": 4,
 "nbformat_minor": 5
}
